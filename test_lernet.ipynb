{
 "cells": [
  {
   "cell_type": "code",
   "execution_count": null,
   "metadata": {},
   "outputs": [],
   "source": [
    "import numpy as np \n",
    "import pandas as pd \n",
    "import os\n",
    "import matplotlib.pyplot as plt\n",
    "import seaborn as sns\n",
    "from keras.models import load_model\n",
    "from sklearn.metrics import classification_report, confusion_matrix"
   ]
  },
  {
   "cell_type": "code",
   "execution_count": null,
   "metadata": {},
   "outputs": [],
   "source": [
    "df = pd.read_csv(\"C:/Users/Pierre/Desktop/final_final_try/fer2013.csv\")\n",
    "emotion_label_to_text = {0:'anger', 1:'disgust', 2:'fear', 3:'happiness', 4: 'sadness', 5: 'surprise', 6: 'neutral'}"
   ]
  },
  {
   "cell_type": "code",
   "execution_count": null,
   "metadata": {},
   "outputs": [],
   "source": [
    "df['pixels'] = df['pixels'].apply(lambda x: np.array(x.split(), dtype='float32'))\n",
    "X = np.stack(df['pixels'].values)\n",
    "X = X.reshape(-1, 48, 48, 1)  # Reshape to the appropriate input shape for your model\n",
    "\n",
    "y = pd.get_dummies(df['emotion']).values"
   ]
  },
  {
   "cell_type": "code",
   "execution_count": null,
   "metadata": {},
   "outputs": [],
   "source": [
    "from sklearn.model_selection import train_test_split\n",
    "train_x, test_x, train_y, test_y = train_test_split(X, y, test_size=0.2, random_state=42)"
   ]
  },
  {
   "cell_type": "code",
   "execution_count": null,
   "metadata": {},
   "outputs": [],
   "source": [
    "new_model = load_model(\"lenet.h5\")"
   ]
  },
  {
   "cell_type": "code",
   "execution_count": null,
   "metadata": {},
   "outputs": [],
   "source": [
    "yhat_valid = np.argmax(new_model.predict(test_x), axis=1)\n",
    "\n",
    "# Calculate confusion matrix\n",
    "cm = confusion_matrix(np.argmax(test_y, axis=1), yhat_valid)\n",
    "\n",
    "# Map class names for the confusion matrix\n",
    "class_names = [emotion_label_to_text[i] for i in range(len(emotion_label_to_text))]\n",
    "\n",
    "# Plot the confusion matrix\n",
    "plt.figure(figsize=(7,7))\n",
    "sns.heatmap(cm, annot=True, fmt='d', cmap='Blues', xticklabels=class_names, yticklabels=class_names)\n",
    "plt.xlabel('Predicted')\n",
    "plt.ylabel('True')\n",
    "plt.title('Confusion Matrix')\n",
    "plt.savefig(\"confusion_matrix_dcnn.png\")\n",
    "\n",
    "# Print total wrong validation predictions\n",
    "total_wrong_predictions = np.sum(np.argmax(test_y, axis=1) != yhat_valid)\n",
    "print(f'Total wrong validation predictions: {total_wrong_predictions}\\n\\n')\n",
    "\n",
    "# Print classification report\n",
    "print(classification_report(np.argmax(test_y, axis=1), yhat_valid))"
   ]
  }
 ],
 "metadata": {
  "language_info": {
   "name": "python"
  }
 },
 "nbformat": 4,
 "nbformat_minor": 2
}
